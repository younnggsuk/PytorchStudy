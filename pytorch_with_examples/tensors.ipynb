{
 "cells": [
  {
   "cell_type": "markdown",
   "id": "loaded-pattern",
   "metadata": {},
   "source": [
    "# Tensors\n",
    "\n",
    "- NumPy의 array와 Pytorch의 Tensor를 사용하면 신경망을 구현할 수 있음"
   ]
  },
  {
   "cell_type": "markdown",
   "id": "funny-visit",
   "metadata": {},
   "source": [
    "### Example\n",
    "- Fully Connected Network\n",
    "    - 1 hidden layer\n",
    "    - ReLU\n",
    "- 출력과 정답 사이의 유클리드 거리 (Euclidean distance)를 최소화하도록 Optimize\n",
    "- 경사하강법(gradient descent) 사용"
   ]
  },
  {
   "cell_type": "code",
   "execution_count": 1,
   "id": "measured-northeast",
   "metadata": {},
   "outputs": [],
   "source": [
    "'''\n",
    "네트워크 구성\n",
    "'''\n",
    "# N : batch size\n",
    "# H : hidden layer의 차원\n",
    "# D_in : 입력의 차원\n",
    "# D_out : 출력의 차원\n",
    "N, H, D_in, D_out = 64, 100, 1000, 10\n",
    "\n",
    "# learning rate\n",
    "lr = 1e-6"
   ]
  },
  {
   "cell_type": "markdown",
   "id": "completed-graduate",
   "metadata": {},
   "source": [
    "## Numpy\n",
    "\n",
    "NumPy를 사용한 신경망 구성"
   ]
  },
  {
   "cell_type": "code",
   "execution_count": 2,
   "id": "prescription-borough",
   "metadata": {
    "scrolled": true
   },
   "outputs": [
    {
     "name": "stdout",
     "output_type": "stream",
     "text": [
      "0 41963560.14308944\n",
      "10 1056446.2223585618\n",
      "20 228394.62566683267\n",
      "30 72842.44306823978\n",
      "40 27951.10605644983\n",
      "50 12040.63143443187\n",
      "60 5641.212561662921\n",
      "70 2803.451918716597\n",
      "80 1452.372841771118\n",
      "90 776.1115150693354\n",
      "100 425.04174857288893\n",
      "110 236.8852709751962\n",
      "120 133.83674895018794\n",
      "130 76.46799065812289\n",
      "140 44.10720485513167\n",
      "150 25.653999015677073\n",
      "160 15.0327829252869\n",
      "170 8.87024144471873\n",
      "180 5.2678618041080725\n",
      "190 3.1477875011610372\n",
      "200 1.8920912013714632\n",
      "210 1.14375759712079\n",
      "220 0.6952105039097155\n",
      "230 0.42482694073843397\n",
      "240 0.2609284004540519\n",
      "250 0.16105366543905508\n",
      "260 0.09987699315548308\n",
      "270 0.06222188613314509\n",
      "280 0.03892969177658039\n",
      "290 0.02445606449073281\n",
      "300 0.015423034109841109\n",
      "310 0.00976151051065816\n",
      "320 0.0061991422978108805\n",
      "330 0.0039491816224595366\n",
      "340 0.0025232358022391384\n",
      "350 0.0016164761243093028\n",
      "360 0.0010381742857325095\n",
      "370 0.0006682727291755953\n",
      "380 0.0004310587748544846\n",
      "390 0.00027858143833720277\n",
      "400 0.00018034991942784064\n",
      "410 0.00011693865189273142\n",
      "420 7.59325977414547e-05\n",
      "430 4.937002153504007e-05\n",
      "440 3.213696282734322e-05\n",
      "450 2.0941317761835916e-05\n",
      "460 1.3658965826186445e-05\n",
      "470 8.916829881097922e-06\n",
      "480 5.825611539660969e-06\n",
      "490 3.808717044903692e-06\n",
      "y_pred와 y의 차이 : 0.00030904105692624055\n"
     ]
    }
   ],
   "source": [
    "import numpy as np\n",
    "\n",
    "# random input, output 생성\n",
    "x = np.random.randn(N, D_in)\n",
    "w1 = np.random.randn(D_in, H)\n",
    "w2 = np.random.randn(H, D_out)\n",
    "y = np.random.randn(N, D_out)\n",
    "\n",
    "for t in range(500):\n",
    "    # Forward pass\n",
    "    h = np.dot(x, w1)\n",
    "    h_relu = np.maximum(h, 0)\n",
    "    y_pred = np.dot(h_relu, w2)\n",
    "    \n",
    "    # Loss 계산\n",
    "    loss = np.sum(np.square(y_pred - y))\n",
    "    if t % 10 == 0:\n",
    "        print(t, loss)\n",
    "    \n",
    "    # w1, w2의 gradient 계산\n",
    "    grad_y_pred = 2.0 * (y_pred - y)\n",
    "    grad_w2 = np.dot(h_relu.T, grad_y_pred)\n",
    "    grad_h_relu = np.dot(grad_y_pred, w2.T)\n",
    "    grad_h = np.copy(grad_h_relu)\n",
    "    grad_h[h < 0.0] = 0.0\n",
    "    grad_w1 = np.dot(x.T, grad_h)\n",
    "    \n",
    "    # Backprop\n",
    "    w1 -= lr * grad_w1\n",
    "    w2 -= lr * grad_w2\n",
    "    \n",
    "# Optimize됐는지 확인\n",
    "print(f\"y_pred와 y의 차이 : {(y - y_pred).sum()}\")"
   ]
  },
  {
   "cell_type": "markdown",
   "id": "entertaining-annotation",
   "metadata": {},
   "source": [
    "## PyTorch\n",
    "\n",
    "PyTorch Tensor를 사용한 신경망 구성"
   ]
  },
  {
   "cell_type": "code",
   "execution_count": 3,
   "id": "fourth-celebrity",
   "metadata": {},
   "outputs": [],
   "source": [
    "# mm : matrix multiplication, [n, m] x [m,p] = [n,p]\n",
    "# bmm : batch matrix multiplication, [B, n, m] x [B, m, p] = [B, n, p]\n",
    "# (두 operand가 모두 batch일 때 사용)"
   ]
  },
  {
   "cell_type": "code",
   "execution_count": 4,
   "id": "prime-anime",
   "metadata": {
    "scrolled": false
   },
   "outputs": [
    {
     "name": "stdout",
     "output_type": "stream",
     "text": [
      "0 33062464.0\n",
      "10 1217473.5\n",
      "20 220373.5\n",
      "30 73573.203125\n",
      "40 29754.2734375\n",
      "50 13405.0869140625\n",
      "60 6470.486328125\n",
      "70 3283.988037109375\n",
      "80 1734.6171875\n",
      "90 945.748779296875\n",
      "100 529.30029296875\n",
      "110 302.9834289550781\n",
      "120 176.92657470703125\n",
      "130 105.00982666015625\n",
      "140 63.209625244140625\n",
      "150 38.512176513671875\n",
      "160 23.704349517822266\n",
      "170 14.718262672424316\n",
      "180 9.207853317260742\n",
      "190 5.798083305358887\n",
      "200 3.671607494354248\n",
      "210 2.336486339569092\n",
      "220 1.4932191371917725\n",
      "230 0.9578414559364319\n",
      "240 0.6164311766624451\n",
      "250 0.397847980260849\n",
      "260 0.2574297785758972\n",
      "270 0.16701817512512207\n",
      "280 0.10856146365404129\n",
      "290 0.07072456181049347\n",
      "300 0.04616745933890343\n",
      "310 0.03022788278758526\n",
      "320 0.019839180633425713\n",
      "330 0.013080425560474396\n",
      "340 0.00867203064262867\n",
      "350 0.00579190906137228\n",
      "360 0.003916237037628889\n",
      "370 0.002679473487660289\n",
      "380 0.001866974402219057\n",
      "390 0.0013255344238132238\n",
      "400 0.0009643493103794754\n",
      "410 0.0007132808677852154\n",
      "420 0.0005390228470787406\n",
      "430 0.0004157178336754441\n",
      "440 0.0003268640430178493\n",
      "450 0.0002604762848932296\n",
      "460 0.0002115342067554593\n",
      "470 0.00017384751117788255\n",
      "480 0.0001445157831767574\n",
      "490 0.0001217708777403459\n",
      "y_pred와 y의 차이 : -0.0032671471126377583\n"
     ]
    }
   ],
   "source": [
    "import torch\n",
    "\n",
    "device = \"cuda\" if torch.cuda.is_available() else \"cpu\"\n",
    "\n",
    "# random input, output 생성\n",
    "x = torch.randn(N, D_in, device=device, dtype=torch.float)\n",
    "w1 = torch.randn(D_in, H, device=device, dtype=torch.float)\n",
    "w2 = torch.randn(H, D_out, device=device, dtype=torch.float)\n",
    "y = torch.randn(N, D_out, device=device, dtype=torch.float)\n",
    "\n",
    "for t in range(500):\n",
    "    # Forward pass\n",
    "    h = x.mm(w1)\n",
    "    h_relu = h.clamp(min=0)\n",
    "    y_pred = h_relu.mm(w2)\n",
    "    \n",
    "    # Loss 계산\n",
    "    loss = (y_pred - y).pow(2).sum().item()\n",
    "    if t % 10 == 0:\n",
    "        print(t, loss)\n",
    "\n",
    "    # w1, w2의 gradient 계산\n",
    "    grad_y_pred = 2.0 * (y_pred - y)\n",
    "    grad_h_relu = grad_y_pred.mm(w2.t())\n",
    "    grad_w2 = h_relu.t().mm(grad_y_pred)\n",
    "    grad_h = grad_h_relu.clone()\n",
    "    grad_h[h < 0] = 0.0\n",
    "    grad_w1 = x.t().mm(grad_h)\n",
    "    \n",
    "    # Backprop\n",
    "    w1 -= lr * grad_w1\n",
    "    w2 -= lr * grad_w2\n",
    "    \n",
    "# Optimize됐는지 확인\n",
    "print(f\"y_pred와 y의 차이 : {(y_pred - y).sum()}\")"
   ]
  }
 ],
 "metadata": {
  "kernelspec": {
   "display_name": "Python 3",
   "language": "python",
   "name": "python3"
  },
  "language_info": {
   "codemirror_mode": {
    "name": "ipython",
    "version": 3
   },
   "file_extension": ".py",
   "mimetype": "text/x-python",
   "name": "python",
   "nbconvert_exporter": "python",
   "pygments_lexer": "ipython3",
   "version": "3.8.5"
  }
 },
 "nbformat": 4,
 "nbformat_minor": 5
}
