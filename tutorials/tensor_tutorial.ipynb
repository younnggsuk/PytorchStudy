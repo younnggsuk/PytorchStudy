{
 "cells": [
  {
   "cell_type": "markdown",
   "id": "faced-screen",
   "metadata": {},
   "source": [
    "# Tensors"
   ]
  },
  {
   "cell_type": "code",
   "execution_count": 1,
   "id": "considered-acquisition",
   "metadata": {},
   "outputs": [
    {
     "name": "stdout",
     "output_type": "stream",
     "text": [
      "tensor([[9.5596e+02, 4.5580e-41, 9.5596e+02],\n",
      "        [4.5580e-41, 2.2801e+00, 4.5580e-41],\n",
      "        [2.2763e+00, 4.5580e-41, 2.2801e+00],\n",
      "        [4.5580e-41, 2.2802e+00, 4.5580e-41],\n",
      "        [2.2802e+00, 4.5580e-41, 2.2802e+00]])\n",
      "torch.Size([5, 3])\n"
     ]
    }
   ],
   "source": [
    "import torch\n",
    "\n",
    "# 초기화되지 않은 5x3 행렬 생성\n",
    "x = torch.empty(5, 3)\n",
    "print(x)\n",
    "print(x.size())"
   ]
  },
  {
   "cell_type": "code",
   "execution_count": 2,
   "id": "bibliographic-arthur",
   "metadata": {},
   "outputs": [
    {
     "name": "stdout",
     "output_type": "stream",
     "text": [
      "tensor([[0.4993, 0.2168, 0.7013],\n",
      "        [0.4593, 0.6200, 0.0150],\n",
      "        [0.1198, 0.4155, 0.6621],\n",
      "        [0.3337, 0.8544, 0.4826],\n",
      "        [0.0791, 0.2108, 0.2692]])\n",
      "torch.float32 torch.Size([5, 3])\n"
     ]
    }
   ],
   "source": [
    "# 무작위로 초기화된 5x3 행렬 생성\n",
    "x = torch.rand(5, 3)\n",
    "print(x)\n",
    "print(x.dtype, x.size())"
   ]
  },
  {
   "cell_type": "code",
   "execution_count": 3,
   "id": "divided-timber",
   "metadata": {},
   "outputs": [
    {
     "name": "stdout",
     "output_type": "stream",
     "text": [
      "tensor([[0, 0, 0],\n",
      "        [0, 0, 0],\n",
      "        [0, 0, 0],\n",
      "        [0, 0, 0],\n",
      "        [0, 0, 0]])\n",
      "torch.int64 torch.Size([5, 3])\n"
     ]
    }
   ],
   "source": [
    "# 0으로 초기화된 5x3 행렬 생성, dtype으로 long을 설정\n",
    "x = torch.zeros(5, 3, dtype=torch.long)\n",
    "print(x)\n",
    "print(x.dtype, x.size())"
   ]
  },
  {
   "cell_type": "code",
   "execution_count": 4,
   "id": "careful-confidence",
   "metadata": {},
   "outputs": [
    {
     "name": "stdout",
     "output_type": "stream",
     "text": [
      "tensor([5.5000, 3.0000], dtype=torch.float64)\n",
      "torch.float64 torch.Size([2])\n"
     ]
    }
   ],
   "source": [
    "# 직접 데이터를 넣어서 tensor 생성\n",
    "x = torch.tensor([5.5, 3], dtype=torch.double)\n",
    "print(x)\n",
    "print(x.dtype, x.size())"
   ]
  },
  {
   "cell_type": "code",
   "execution_count": 5,
   "id": "answering-giant",
   "metadata": {},
   "outputs": [
    {
     "name": "stdout",
     "output_type": "stream",
     "text": [
      "tensor([[1., 1., 1.],\n",
      "        [1., 1., 1.],\n",
      "        [1., 1., 1.],\n",
      "        [1., 1., 1.],\n",
      "        [1., 1., 1.]], dtype=torch.float64)\n",
      "torch.float64 torch.Size([5, 3])\n"
     ]
    }
   ],
   "source": [
    "# tensor의 new_*()는 기존 tensor의 속성과 동일한 새로운 tensor를 생성\n",
    "\n",
    "# x와 동일한 dtype을 가지는 5x3 크기의 ones 행렬 생성\n",
    "x = x.new_ones(5, 3)\n",
    "print(x)\n",
    "print(x.dtype, x.size())"
   ]
  },
  {
   "cell_type": "code",
   "execution_count": 6,
   "id": "selected-bridal",
   "metadata": {},
   "outputs": [
    {
     "name": "stdout",
     "output_type": "stream",
     "text": [
      "tensor([[-0.3603,  1.8218, -2.4088],\n",
      "        [-2.0575,  0.0539,  1.2491],\n",
      "        [-0.2280, -1.5832,  1.5325],\n",
      "        [ 0.6830, -0.0643, -1.0437],\n",
      "        [-0.8801,  2.6887, -1.5798]])\n",
      "torch.float32 torch.Size([5, 3])\n"
     ]
    }
   ],
   "source": [
    "# torch.*_like()는 인자로 전달받은 tensor의 속성을 그대로 사용\n",
    "\n",
    "# x와 동일한 크기를 가지는 5x3 크기의 random 행렬 생성\n",
    "# (dtype을 지정해주지 않았다면, 동일하게 torch.float64로 속성을 받아옴)\n",
    "x = torch.randn_like(x, dtype=torch.float)\n",
    "print(x)\n",
    "print(x.dtype, x.size())"
   ]
  },
  {
   "cell_type": "markdown",
   "id": "aware-external",
   "metadata": {},
   "source": [
    "# Operations"
   ]
  },
  {
   "cell_type": "code",
   "execution_count": 7,
   "id": "clean-highland",
   "metadata": {},
   "outputs": [
    {
     "name": "stdout",
     "output_type": "stream",
     "text": [
      "tensor([[-0.1186,  2.0782, -1.6997],\n",
      "        [-1.7858,  0.7323,  1.6304],\n",
      "        [ 0.0251, -0.8383,  2.0161],\n",
      "        [ 1.5526,  0.0797, -0.0760],\n",
      "        [-0.3410,  3.3292, -0.8600]])\n"
     ]
    }
   ],
   "source": [
    "y = torch.rand(5, 3)\n",
    "# 덧셈\n",
    "print(x + y)"
   ]
  },
  {
   "cell_type": "code",
   "execution_count": 8,
   "id": "sunrise-egypt",
   "metadata": {},
   "outputs": [
    {
     "name": "stdout",
     "output_type": "stream",
     "text": [
      "tensor([[-0.1186,  2.0782, -1.6997],\n",
      "        [-1.7858,  0.7323,  1.6304],\n",
      "        [ 0.0251, -0.8383,  2.0161],\n",
      "        [ 1.5526,  0.0797, -0.0760],\n",
      "        [-0.3410,  3.3292, -0.8600]])\n"
     ]
    }
   ],
   "source": [
    "# torch.add()로도 덧셈 가능\n",
    "print(torch.add(x, y))"
   ]
  },
  {
   "cell_type": "code",
   "execution_count": 9,
   "id": "actual-satellite",
   "metadata": {},
   "outputs": [
    {
     "name": "stdout",
     "output_type": "stream",
     "text": [
      "tensor([[-0.1186,  2.0782, -1.6997],\n",
      "        [-1.7858,  0.7323,  1.6304],\n",
      "        [ 0.0251, -0.8383,  2.0161],\n",
      "        [ 1.5526,  0.0797, -0.0760],\n",
      "        [-0.3410,  3.3292, -0.8600]])\n"
     ]
    }
   ],
   "source": [
    "# 덧셈 결과를 result에 담기\n",
    "result = torch.empty(5, 3) # result = torch.empty_like(x)로도 가능\n",
    "torch.add(x, y, out=result)\n",
    "print(result)"
   ]
  },
  {
   "cell_type": "code",
   "execution_count": 10,
   "id": "distinguished-luxembourg",
   "metadata": {},
   "outputs": [
    {
     "name": "stdout",
     "output_type": "stream",
     "text": [
      "tensor([[-0.1186,  2.0782, -1.6997],\n",
      "        [-1.7858,  0.7323,  1.6304],\n",
      "        [ 0.0251, -0.8383,  2.0161],\n",
      "        [ 1.5526,  0.0797, -0.0760],\n",
      "        [-0.3410,  3.3292, -0.8600]])\n"
     ]
    }
   ],
   "source": [
    "# in-place로 수행\n",
    "y.add_(x)\n",
    "print(y)"
   ]
  },
  {
   "cell_type": "code",
   "execution_count": 11,
   "id": "canadian-accused",
   "metadata": {},
   "outputs": [
    {
     "name": "stdout",
     "output_type": "stream",
     "text": [
      "tensor([ 1.8218,  0.0539, -1.5832, -0.0643,  2.6887])\n"
     ]
    }
   ],
   "source": [
    "# tensor는 numpy처럼 indexing이 가능\n",
    "# 1열 출력\n",
    "print(x[:, 1])"
   ]
  },
  {
   "cell_type": "code",
   "execution_count": 12,
   "id": "attempted-contrast",
   "metadata": {},
   "outputs": [
    {
     "name": "stdout",
     "output_type": "stream",
     "text": [
      "torch.Size([4, 4]) torch.Size([16]) torch.Size([2, 8])\n"
     ]
    }
   ],
   "source": [
    "# view()는 tensor의 shape를 변경 (numpy의 reshape와 같은 역할을 하는 함수)\n",
    "x = torch.randn(4, 4)\n",
    "y = x.view(16)\n",
    "z = x.view(-1, 8)\n",
    "print(x.size(), y.size(), z.size())"
   ]
  },
  {
   "cell_type": "markdown",
   "id": "stainless-religion",
   "metadata": {},
   "source": [
    "# Torch Tensor를 Numpy 배열로 변환"
   ]
  },
  {
   "cell_type": "code",
   "execution_count": 13,
   "id": "returning-output",
   "metadata": {},
   "outputs": [
    {
     "name": "stdout",
     "output_type": "stream",
     "text": [
      "tensor([1., 1., 1., 1., 1.])\n",
      "<class 'torch.Tensor'>\n"
     ]
    }
   ],
   "source": [
    "a = torch.ones(5)\n",
    "print(a)\n",
    "print(type(a))"
   ]
  },
  {
   "cell_type": "code",
   "execution_count": 14,
   "id": "artistic-nowhere",
   "metadata": {},
   "outputs": [
    {
     "name": "stdout",
     "output_type": "stream",
     "text": [
      "[1. 1. 1. 1. 1.]\n",
      "<class 'numpy.ndarray'>\n"
     ]
    }
   ],
   "source": [
    "# numpy()로 numpy로 변환 가능\n",
    "b = a.numpy()\n",
    "print(b)\n",
    "print(type(b))"
   ]
  },
  {
   "cell_type": "code",
   "execution_count": 15,
   "id": "nearby-column",
   "metadata": {},
   "outputs": [
    {
     "name": "stdout",
     "output_type": "stream",
     "text": [
      "tensor([2., 2., 2., 2., 2.])\n",
      "[2. 2. 2. 2. 2.]\n"
     ]
    }
   ],
   "source": [
    "# torch의 tensor랑 numpy array는 메모리를 공유\n",
    "# 따라서, tensor의 값을 변경하면 참조하고 있던 numpy array도 변경됨\n",
    "a.add_(1)\n",
    "print(a)\n",
    "print(b)"
   ]
  },
  {
   "cell_type": "markdown",
   "id": "valued-conservation",
   "metadata": {},
   "source": [
    "# Numpy 배열을 Torch Tensor로 변환"
   ]
  },
  {
   "cell_type": "code",
   "execution_count": 16,
   "id": "adjacent-dylan",
   "metadata": {},
   "outputs": [
    {
     "name": "stdout",
     "output_type": "stream",
     "text": [
      "[1. 1. 1. 1. 1.]\n",
      "<class 'numpy.ndarray'>\n"
     ]
    }
   ],
   "source": [
    "import numpy as np\n",
    "\n",
    "a = np.ones(5)\n",
    "print(a)\n",
    "print(type(a))"
   ]
  },
  {
   "cell_type": "code",
   "execution_count": 17,
   "id": "unlimited-optics",
   "metadata": {},
   "outputs": [
    {
     "name": "stdout",
     "output_type": "stream",
     "text": [
      "tensor([1., 1., 1., 1., 1.], dtype=torch.float64)\n",
      "<class 'torch.Tensor'>\n"
     ]
    }
   ],
   "source": [
    "# from_numpy()로 numpy array를 torch tensor로 변환\n",
    "b = torch.from_numpy(a)\n",
    "print(b)\n",
    "print(type(b))"
   ]
  },
  {
   "cell_type": "code",
   "execution_count": 18,
   "id": "respiratory-lindsay",
   "metadata": {},
   "outputs": [
    {
     "name": "stdout",
     "output_type": "stream",
     "text": [
      "[2. 2. 2. 2. 2.]\n",
      "tensor([2., 2., 2., 2., 2.], dtype=torch.float64)\n"
     ]
    }
   ],
   "source": [
    "# 마찬가지로 메모리를 공유\n",
    "np.add(a, 1, out=a)\n",
    "print(a)\n",
    "print(b)"
   ]
  },
  {
   "cell_type": "markdown",
   "id": "another-afghanistan",
   "metadata": {},
   "source": [
    "# CUDA Tensors"
   ]
  },
  {
   "cell_type": "code",
   "execution_count": 19,
   "id": "adult-construction",
   "metadata": {},
   "outputs": [],
   "source": [
    "device = \"cuda\" if torch.cuda.is_available else \"cpu\""
   ]
  },
  {
   "cell_type": "code",
   "execution_count": 20,
   "id": "alpha-poland",
   "metadata": {},
   "outputs": [
    {
     "name": "stdout",
     "output_type": "stream",
     "text": [
      "tensor([[ 1.3004,  1.5427,  0.8815,  0.6359],\n",
      "        [ 0.3356,  1.7254,  0.7432,  1.0509],\n",
      "        [ 0.2286, -0.8064, -0.0195,  0.6604],\n",
      "        [ 1.8741,  1.7266,  0.5796,  1.8728]], device='cuda:0')\n"
     ]
    }
   ],
   "source": [
    "y = torch.ones_like(x, device=device)\n",
    "x = x.to(device)\n",
    "z = x + y\n",
    "print(z)"
   ]
  },
  {
   "cell_type": "code",
   "execution_count": 21,
   "id": "responsible-consultancy",
   "metadata": {},
   "outputs": [
    {
     "name": "stdout",
     "output_type": "stream",
     "text": [
      "tensor([[ 1.3004,  1.5427,  0.8815,  0.6359],\n",
      "        [ 0.3356,  1.7254,  0.7432,  1.0509],\n",
      "        [ 0.2286, -0.8064, -0.0195,  0.6604],\n",
      "        [ 1.8741,  1.7266,  0.5796,  1.8728]], dtype=torch.float64)\n"
     ]
    }
   ],
   "source": [
    "# to()를 사용해서 GPU 안팎으로 tensor를 옮길 수 있음\n",
    "# to()는 dtype을 지정해줄 수도 있음\n",
    "print(z.to(\"cpu\", dtype=torch.double))"
   ]
  }
 ],
 "metadata": {
  "kernelspec": {
   "display_name": "Python 3",
   "language": "python",
   "name": "python3"
  },
  "language_info": {
   "codemirror_mode": {
    "name": "ipython",
    "version": 3
   },
   "file_extension": ".py",
   "mimetype": "text/x-python",
   "name": "python",
   "nbconvert_exporter": "python",
   "pygments_lexer": "ipython3",
   "version": "3.8.5"
  }
 },
 "nbformat": 4,
 "nbformat_minor": 5
}
