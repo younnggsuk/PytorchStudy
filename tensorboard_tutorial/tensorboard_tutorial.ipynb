{
 "cells": [
  {
   "cell_type": "markdown",
   "id": "weird-salon",
   "metadata": {},
   "source": [
    "# TENSORBOARD로 모델, 데이터, 학습 시각화하기\n",
    "\n",
    "- TensorBoard는 신경망 학습 내역을 시각화하는 도구이며, Pytorch와 통합되었다.\n",
    "- 여기서는 `torchvision.datasets`의 [Fashion-MNIST dataset](https://github.com/zalandoresearch/fashion-mnist)을 통해 다음의 과정을 진행하며 몇가지 기능들을 살펴본다.\n",
    "> 1. 데이터를 읽고 적절히 변환, 모델 학습\n",
    "> 2. TensorBoard를 설정(set up)\n",
    "> 3. TensorBoard에 기록(write)\n",
    "> 4. TensorBoard를 사용해 모델 구조를 확인\n",
    "> 5. TensorBoard를 사용해 고차원 데이터의 저차원 표현(representation)을 시각화\n",
    "> 6. TensorBoard로 모델 학습 추적하기\n",
    "> 7. TensorBoard로 학습된 모델 평가하기"
   ]
  },
  {
   "cell_type": "markdown",
   "id": "third-presence",
   "metadata": {},
   "source": [
    "## 1. 분류기 학습"
   ]
  },
  {
   "cell_type": "code",
   "execution_count": 1,
   "id": "amino-pressure",
   "metadata": {},
   "outputs": [
    {
     "name": "stdout",
     "output_type": "stream",
     "text": [
      "cuda\n"
     ]
    }
   ],
   "source": [
    "import numpy as np\n",
    "import matplotlib.pyplot as plt\n",
    "\n",
    "import torch\n",
    "import torchvision\n",
    "import torchvision.transforms as transforms\n",
    "\n",
    "import torch.nn as nn\n",
    "import torch.nn.functional as F\n",
    "import torch.optim as optim\n",
    "\n",
    "from torch.utils.data import DataLoader\n",
    "\n",
    "device = torch.device(\"cuda\" if torch.cuda.is_available() else \"cpu\")\n",
    "print(device)"
   ]
  },
  {
   "cell_type": "code",
   "execution_count": 2,
   "id": "widespread-copper",
   "metadata": {},
   "outputs": [],
   "source": [
    "transform = transforms.Compose([\n",
    "    transforms.ToTensor(),\n",
    "    transforms.Normalize((0.5,), (0.5,))\n",
    "])\n",
    "\n",
    "trainset = torchvision.datasets.FashionMNIST(\n",
    "    './data',\n",
    "    download=True,\n",
    "    train=True,\n",
    "    transform=transform\n",
    ")\n",
    "testset = torchvision.datasets.FashionMNIST(\n",
    "    './data',\n",
    "    download=True,\n",
    "    train=False,\n",
    "    transform=transform\n",
    ")\n",
    "\n",
    "trainloader = DataLoader(trainset, batch_size=4, shuffle=True, num_workers=2)\n",
    "testloader = DataLoader(testset, batch_size=4, shuffle=False, num_workers=2)\n",
    "\n",
    "classes = (\n",
    "    'T-shirt/top', 'Trouser', 'Pullover', 'Dress', 'Coat',\n",
    "    'Sandal', 'Shirt', 'Sneaker', 'Bag', 'Ankle Boot'\n",
    ")\n",
    "\n",
    "\n",
    "# 이미지 보여주는 함수 (helper function)\n",
    "def matplotlib_imshow(img, one_channel=False):\n",
    "    if one_channel:\n",
    "        img = img.mean(dim=0)\n",
    "    \n",
    "    img = img / 2 + 0.5 # unnormalize\n",
    "    npimg = img.numpy()\n",
    "    if one_channel:\n",
    "        plt.imshow(npimg, cmap=\"Greys\")\n",
    "    else:\n",
    "        plt.imshow(np.transpose(npimg, (1, 2, 0)))"
   ]
  },
  {
   "cell_type": "code",
   "execution_count": 3,
   "id": "alike-ideal",
   "metadata": {},
   "outputs": [
    {
     "name": "stdout",
     "output_type": "stream",
     "text": [
      "Net(\n",
      "  (conv1): Conv2d(1, 6, kernel_size=(5, 5), stride=(1, 1))\n",
      "  (conv2): Conv2d(6, 16, kernel_size=(5, 5), stride=(1, 1))\n",
      "  (pool): MaxPool2d(kernel_size=2, stride=2, padding=0, dilation=1, ceil_mode=False)\n",
      "  (fc1): Linear(in_features=256, out_features=120, bias=True)\n",
      "  (fc2): Linear(in_features=120, out_features=84, bias=True)\n",
      "  (fc3): Linear(in_features=84, out_features=10, bias=True)\n",
      ")\n"
     ]
    }
   ],
   "source": [
    "class Net(nn.Module):\n",
    "    def __init__(self):\n",
    "        super(Net, self).__init__()\n",
    "        self.conv1 = nn.Conv2d(1, 6, kernel_size=5, stride=1, padding=0)\n",
    "        self.conv2 = nn.Conv2d(6, 16, kernel_size=5, stride=1, padding=0)\n",
    "        self.pool = nn.MaxPool2d(kernel_size=2, stride=2)\n",
    "\n",
    "        self.fc1 = nn.Linear(16 * 4 * 4, 120)\n",
    "        self.fc2 = nn.Linear(120, 84)\n",
    "        self.fc3 = nn.Linear(84, 10)\n",
    "\n",
    "    def forward(self, x):\n",
    "        x = self.pool(F.relu(self.conv1(x)))\n",
    "        x = self.pool(F.relu(self.conv2(x)))\n",
    "        x = x.view(-1, 16 * 4 * 4)\n",
    "\n",
    "        x = F.relu(self.fc1(x))\n",
    "        x = F.relu(self.fc2(x))\n",
    "        x = self.fc3(x)\n",
    "\n",
    "        return x\n",
    "\n",
    "\n",
    "model = Net()\n",
    "print(model)"
   ]
  },
  {
   "cell_type": "code",
   "execution_count": 4,
   "id": "velvet-creation",
   "metadata": {},
   "outputs": [],
   "source": [
    "loss_fn = nn.CrossEntropyLoss()\n",
    "optimizer = optim.SGD(model.parameters(), lr=0.001, momentum=0.9)"
   ]
  },
  {
   "cell_type": "markdown",
   "id": "dedicated-survivor",
   "metadata": {},
   "source": [
    "## 2. TensorBoard 설정\n",
    "\n",
    "- `torch.utils.tensorboard`에서 TensorBoard에 정보를 제공(write)하는 `SummaryWriter`를 정의하여 TensorBoard를 설정"
   ]
  },
  {
   "cell_type": "code",
   "execution_count": 5,
   "id": "noble-discrimination",
   "metadata": {},
   "outputs": [],
   "source": [
    "from torch.utils.tensorboard import SummaryWriter\n",
    "\n",
    "# ./runs/fashion_mnist_experiments_1 디렉토리 생성\n",
    "writer = SummaryWriter(\"./runs/fashion_mnist_experiment_1\")"
   ]
  },
  {
   "cell_type": "markdown",
   "id": "banned-colombia",
   "metadata": {},
   "source": [
    "## 3. TensorBoard에 기록\n",
    "\n",
    "- TensorBoard에 이미지를 기록"
   ]
  },
  {
   "cell_type": "code",
   "execution_count": 6,
   "id": "arabic-hands",
   "metadata": {},
   "outputs": [
    {
     "data": {
      "image/png": "[encoded data removed]",
      "text/plain": [
       "<Figure size 432x288 with 1 Axes>"
      ]
     },
     "metadata": {
      "needs_background": "light"
     },
     "output_type": "display_data"
    }
   ],
   "source": [
    "dataiter = iter(trainloader)\n",
    "images, labels = dataiter.next()\n",
    "\n",
    "# image를 grid 형태로 만들기\n",
    "img_grid = torchvision.utils.make_grid(images)\n",
    "\n",
    "# image_grid 확인\n",
    "matplotlib_imshow(img_grid, one_channel=True)\n",
    "\n",
    "# tensorboard에 기록\n",
    "writer.add_image(\"four_fashion_mnist_images\", img_grid)"
   ]
  },
  {
   "cell_type": "markdown",
   "id": "widespread-appliance",
   "metadata": {},
   "source": [
    "아래 명령어 실행 후, http://localhost:6006 의 IMAGES 탭에서 기록한 이미지 확인 가능\n",
    "> $ tensorboard --logdir=runs"
   ]
  },
  {
   "cell_type": "markdown",
   "id": "applied-terrorist",
   "metadata": {},
   "source": [
    "## 4. TensorBoard를 사용해 모델 확인\n",
    "\n",
    "- TensorBoard를 통해 모델의 구조를 시각화할 수 있음"
   ]
  },
  {
   "cell_type": "code",
   "execution_count": 7,
   "id": "limiting-colony",
   "metadata": {},
   "outputs": [],
   "source": [
    "writer.add_graph(model, images)\n",
    "writer.close()"
   ]
  },
  {
   "cell_type": "markdown",
   "id": "interested-powell",
   "metadata": {},
   "source": [
    "아래 명령어 실행 후, http://localhost:6006 의 GRAPHS 탭에서 모델 구조 확인 가능\n",
    "> $ tensorboard --logdir=runs"
   ]
  },
  {
   "cell_type": "markdown",
   "id": "different-thickness",
   "metadata": {},
   "source": [
    "## 5. TensorBoard를 사용해 고차원 데이터의 저차원 표현(representation)을 시각화\n",
    "\n",
    "- `add_embedding()`를 통해 고차원 데이터의 저차원 표현(representation)을 시각화할 수 있음"
   ]
  },
  {
   "cell_type": "code",
   "execution_count": 8,
   "id": "empty-clear",
   "metadata": {},
   "outputs": [],
   "source": [
    "def select_n_random(data, labels, n=100):\n",
    "    '''\n",
    "    Dataset에서 n개의 data instance와 label을 선택\n",
    "    '''\n",
    "    assert len(data) == len(labels)\n",
    "    \n",
    "    perm = torch.randperm(len(data))\n",
    "    return data[perm][:n], labels[perm][:n]\n",
    "\n",
    "\n",
    "images, labels = select_n_random(trainset.data, trainset.targets)\n",
    "class_labels = [classes[label_idx] for label_idx in labels]\n",
    "\n",
    "features = images.view(-1, 28 * 28)\n",
    "writer.add_embedding(features, metadata=class_labels, label_img=images.unsqueeze(1))\n",
    "writer.close()"
   ]
  },
  {
   "cell_type": "markdown",
   "id": "declared-abortion",
   "metadata": {},
   "source": [
    "아래 명령어 실행 후, http://localhost:6006 의 PROJECTOR 탭에서 저차원 공간으로 projection된 결과를 확인 가능\n",
    "> $ tensorboard --logdir=runs"
   ]
  },
  {
   "cell_type": "markdown",
   "id": "million-criterion",
   "metadata": {},
   "source": [
    "## 6. TensorBoard로 모델 학습 추적하기\n",
    "\n",
    "- TensorBoard를 사용해 학습 중 loss를 기록\n",
    "- TensorBoard를 사용해 모델의 예측 결과 확인"
   ]
  },
  {
   "cell_type": "code",
   "execution_count": 9,
   "id": "single-intervention",
   "metadata": {},
   "outputs": [],
   "source": [
    "def images_to_probs(model, images):\n",
    "    '''\n",
    "    학습된 모델과 image로부터 prediction 및 accuracy를 계산\n",
    "    '''\n",
    "    out = model(images)\n",
    "    \n",
    "    _, preds_tensor = torch.max(out, 1)\n",
    "    preds = np.squeeze(preds_tensor.numpy())\n",
    "    return preds, [F.softmax(el, dim=0)[idx].item() for idx, el in zip(preds, out)]\n",
    "\n",
    "\n",
    "def plot_classes_preds(model, images, labels):\n",
    "    '''\n",
    "    학습된 모델과 image/label을 사용해 matplotlib Figure 생성\n",
    "    이때, 예측 결과 및 확률을 함께 보여주며 정답 여부에 따라 색깔을 다르게 표현\n",
    "    '''\n",
    "    preds, probs = images_to_probs(model, images)\n",
    "    \n",
    "    fig = plt.figure(figsize=(12, 48))\n",
    "    for idx in np.arange(4):\n",
    "        ax = fig.add_subplot(1, 4, idx+1, xticks=[], yticks=[])\n",
    "        matplotlib_imshow(images[idx], one_channel=True)\n",
    "        ax.set_title(\n",
    "            (f\"{classes[preds[idx]]}, {probs[idx] * 100.0:.1f}%\\n\" +\n",
    "             f\"(label: {classes[labels[idx]]})\"),\n",
    "            color=(\"green\" if preds[idx]==labels[idx].item() else \"red\")\n",
    "        )\n",
    "    \n",
    "    return fig"
   ]
  },
  {
   "cell_type": "code",
   "execution_count": 10,
   "id": "finnish-candle",
   "metadata": {},
   "outputs": [
    {
     "name": "stdout",
     "output_type": "stream",
     "text": [
      "Finish Training\n"
     ]
    }
   ],
   "source": [
    "running_loss = 0.0\n",
    "for epoch in range(1):\n",
    "    for i, data in enumerate(trainloader):\n",
    "        inputs, labels = data\n",
    "        \n",
    "        outputs = model(inputs)\n",
    "        loss = loss_fn(outputs, labels)\n",
    "        \n",
    "        loss.backward()\n",
    "        optimizer.step()\n",
    "        optimizer.zero_grad()\n",
    "        \n",
    "        running_loss += loss.item()\n",
    "        # 1000 iteration마다 기록\n",
    "        if i % 1000 == 999:\n",
    "            writer.add_scalar(\"training_loss\",\n",
    "                              running_loss / 1000,\n",
    "                              epoch * len(trainloader) + i)\n",
    "            \n",
    "            writer.add_figure(\"prediction vs. actuals\",\n",
    "                              plot_classes_preds(model, inputs, labels),\n",
    "                              global_step=epoch * len(trainloader) + i)\n",
    "            running_loss = 0.0\n",
    "print(\"Finish Training\")"
   ]
  },
  {
   "cell_type": "markdown",
   "id": "guided-store",
   "metadata": {},
   "source": [
    "아래 명령어 실행 후, http://localhost:6006 의 SCALARS 탭에서 loss의 그래프를 확인 가능  \n",
    "또한, IMAGES 탭에서 각 batch에 대한 model의 예측 결과를 확인 가능\n",
    "> $ tensorboard --logdir=runs"
   ]
  },
  {
   "cell_type": "markdown",
   "id": "caring-concern",
   "metadata": {},
   "source": [
    "## 7. TensorBoard로 학습된 모델 평가하기\n",
    "\n",
    "- TensorBoard를 사용해 precision-recall 곡선 그리기"
   ]
  },
  {
   "cell_type": "code",
   "execution_count": 11,
   "id": "present-income",
   "metadata": {},
   "outputs": [],
   "source": [
    "def add_pr_curve_tensorboard(class_index, test_probs, test_preds, global_step=0):\n",
    "    '''\n",
    "    0부터 9까지의 class_index를 가져온 후, precision-recall curve를 기록\n",
    "    '''\n",
    "    tensorboard_preds = test_preds == class_index\n",
    "    tensorboard_probs = test_probs[:, class_index]\n",
    "\n",
    "    writer.add_pr_curve(classes[class_index],\n",
    "                        tensorboard_preds,\n",
    "                        tensorboard_probs,\n",
    "                        global_step=global_step)\n",
    "    writer.close()"
   ]
  },
  {
   "cell_type": "code",
   "execution_count": 12,
   "id": "bulgarian-right",
   "metadata": {},
   "outputs": [],
   "source": [
    "class_probs = []\n",
    "class_preds = []\n",
    "\n",
    "with torch.no_grad():\n",
    "    for data in testloader:\n",
    "        images, labels = data\n",
    "        out = model(images)\n",
    "        class_probs_batch = [F.softmax(el, dim=0) for el in out]\n",
    "        _, class_preds_batch = torch.max(out, 1)\n",
    "\n",
    "        class_probs.append(class_probs_batch)\n",
    "        class_preds.append(class_preds_batch)\n",
    "\n",
    "test_probs = torch.cat([torch.stack(batch) for batch in class_probs])\n",
    "test_preds = torch.cat(class_preds)\n",
    "\n",
    "# 모든 precision-recall curve를 기록\n",
    "for i in range(len(classes)):\n",
    "    add_pr_curve_tensorboard(i, test_probs, test_preds)"
   ]
  },
  {
   "cell_type": "markdown",
   "id": "verbal-amsterdam",
   "metadata": {},
   "source": [
    "아래 명령어 실행 후, http://localhost:6006 의 PR CURVES 탭에서 precision-recall curve를 확인 가능\n",
    "> $ tensorboard --logdir=runs"
   ]
  },
  {
   "cell_type": "code",
   "execution_count": null,
   "id": "signal-justice",
   "metadata": {},
   "outputs": [],
   "source": []
  }
 ],
 "metadata": {
  "kernelspec": {
   "display_name": "Python 3",
   "language": "python",
   "name": "python3"
  },
  "language_info": {
   "codemirror_mode": {
    "name": "ipython",
    "version": 3
   },
   "file_extension": ".py",
   "mimetype": "text/x-python",
   "name": "python",
   "nbconvert_exporter": "python",
   "pygments_lexer": "ipython3",
   "version": "3.8.5"
  }
 },
 "nbformat": 4,
 "nbformat_minor": 5
}
